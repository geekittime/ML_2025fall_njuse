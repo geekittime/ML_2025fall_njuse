{
 "cells": [
  {
   "cell_type": "markdown",
   "id": "9b8adee7",
   "metadata": {},
   "source": [
    "# Task 2: 预测 Pull Request 是否被合并 - 随机森林分类模型\n",
    "\n",
    "## 实验目标\n",
    "使用随机森林分类器预测 GitHub Pull Request 是否被合并（merged，二分类问题）。报告包含数据加载、特征工程、时间切分、模型训练、评估指标（混淆矩阵、Accuracy/Precision/Recall/F1、classification_report）以及特征重要性分析与可视化。\n"
   ]
  },
  {
   "cell_type": "code",
   "execution_count": 1,
   "id": "bd73fd4b",
   "metadata": {},
   "outputs": [
    {
     "name": "stdout",
     "output_type": "stream",
     "text": [
      "环境设置完成\n"
     ]
    }
   ],
   "source": [
    "import pandas as pd\n",
    "import numpy as np\n",
    "import matplotlib.pyplot as plt\n",
    "import seaborn as sns\n",
    "from sklearn.ensemble import RandomForestClassifier\n",
    "from sklearn.metrics import accuracy_score, precision_score, recall_score, f1_score, confusion_matrix, classification_report\n",
    "from sklearn.preprocessing import StandardScaler\n",
    "import warnings\n",
    "import os\n",
    "\n",
    "# 图表与环境设置\n",
    "plt.rcParams['font.sans-serif'] = ['SimHei']\n",
    "plt.rcParams['axes.unicode_minus'] = False\n",
    "sns.set_style('whitegrid')\n",
    "warnings.filterwarnings('ignore')\n",
    "\n",
    "print('环境设置完成')"
   ]
  },
  {
   "cell_type": "markdown",
   "id": "05e94899",
   "metadata": {},
   "source": [
    "## 1. 数据加载与基本信息"
   ]
  },
  {
   "cell_type": "code",
   "execution_count": 2,
   "id": "4d613626",
   "metadata": {},
   "outputs": [
    {
     "name": "stdout",
     "output_type": "stream",
     "text": [
      "尝试加载: d:\\Develop\\ML\\Lab1\\ML_2025fall_njuse\\ML-lab1\\yii2\\PR_extracted_features.xlsx\n",
      "数据规模: (7957, 17)\n",
      "['number', 'created_at', 'updated_at', 'merged_at', 'closed_at', 'merged', 'additions', 'deletions', 'last_pr_update', 'title_length', 'body_length', 'files_added', 'files_deleted', 'files_updated', 'changes_per_week', 'merge_proportion', 'last_comment_update']\n",
      "   number          created_at          updated_at           merged_at  \\\n",
      "0      79 2013-05-04 07:16:18 2013-05-04 12:18:36                 NaT   \n",
      "1      81 2013-05-04 07:48:47 2013-05-04 14:06:07                 NaT   \n",
      "2      86 2013-05-04 14:03:54 2014-07-04 00:31:34 2013-05-04 14:04:53   \n",
      "3      88 2013-05-04 14:58:32 2013-05-04 16:54:07 2013-05-04 16:53:32   \n",
      "4      89 2013-05-04 17:39:04 2013-05-04 18:12:59 2013-05-04 18:12:58   \n",
      "\n",
      "            closed_at  merged  additions  deletions  last_pr_update  \\\n",
      "0 2013-05-04 12:18:36   False          3          3        5.038333   \n",
      "1 2013-05-04 12:04:11   False         13          0        6.288889   \n",
      "2 2013-05-04 14:04:53    True          1          1    10210.461111   \n",
      "3 2013-05-04 16:53:32    True         13          7        1.926389   \n",
      "4 2013-05-04 18:12:58    True         15          1        0.565278   \n",
      "\n",
      "   title_length  body_length  files_added  files_deleted  files_updated  \\\n",
      "0            44            0            0              0              1   \n",
      "1            52          595            1              0              1   \n",
      "2            18          705            0              0              1   \n",
      "3            16            0            1              0              0   \n",
      "4            18          650            1              0              1   \n",
      "\n",
      "   changes_per_week  merge_proportion  last_comment_update  \n",
      "0          0.001880          0.000000             5.038333  \n",
      "1          0.001880          0.000000             2.703611  \n",
      "2          0.001880          1.000000             0.018611  \n",
      "3          0.003760          0.500000             1.926389  \n",
      "4          0.005641          0.666667             0.564167  \n"
     ]
    }
   ],
   "source": [
    "# 数据加载（可交互修改 project_name）\n",
    "project_name = 'yii2'  # 可修改为 'llvm' 或 'ray' 等项目目录名\n",
    "base_dir = os.path.abspath('..')  # notebook 在 doc/ 下，所以上一级是项目根\n",
    "data_path = os.path.join(base_dir, project_name, 'PR_extracted_features.xlsx')\n",
    "print(f'尝试加载: {data_path}')\n",
    "merged_df = pd.read_excel(data_path, engine='openpyxl')\n",
    "print(f'数据规模: {merged_df.shape}')\n",
    "print(merged_df.columns.tolist())\n",
    "print(merged_df.head())"
   ]
  },
  {
   "cell_type": "markdown",
   "id": "70aa541d",
   "metadata": {},
   "source": [
    "## 2. 特征工程与预处理\n",
    "\n",
    "我们将按 `task2_forest.py` 的逻辑：将布尔列转为 0/1，选择数值型特征，移除 ID 与目标列，处理缺失值与无穷大值，最后按时间排序并切分训练/测试集。"
   ]
  },
  {
   "cell_type": "code",
   "execution_count": 3,
   "id": "add85ba6",
   "metadata": {},
   "outputs": [
    {
     "name": "stdout",
     "output_type": "stream",
     "text": [
      "每列缺失值计数:\n",
      "last_comment_update    709\n",
      "dtype: int64\n",
      "最终选定的特征数量: 11\n",
      "['additions', 'deletions', 'last_pr_update', 'title_length', 'body_length', 'files_added', 'files_deleted', 'files_updated', 'changes_per_week', 'merge_proportion', 'last_comment_update']\n"
     ]
    }
   ],
   "source": [
    "# 将布尔列转换为 0/1\n",
    "for bool_col in merged_df.select_dtypes(include=bool).columns.tolist():\n",
    "    merged_df[bool_col] = merged_df[bool_col].astype(int)\n",
    "\n",
    "# 目标变量\n",
    "y = merged_df['merged']\n",
    "\n",
    "# 转换时间列以便排序（若不存在会报错）\n",
    "merged_df['created_at'] = pd.to_datetime(merged_df['created_at'])\n",
    "\n",
    "# 选择数值型特征并移除不可用列\n",
    "features = merged_df.select_dtypes(include=np.number).columns.tolist()\n",
    "features_to_remove = ['number', 'merged']\n",
    "features = [f for f in features if f not in features_to_remove]\n",
    "X = merged_df[features].copy()\n",
    "\n",
    "# 处理无穷大与缺失值\n",
    "X.replace([np.inf, -np.inf], np.nan, inplace=True)\n",
    "print('每列缺失值计数:')\n",
    "print(X.isnull().sum()[X.isnull().sum() > 0])\n",
    "# 使用中位数填充缺失值\n",
    "X.fillna(X.median(), inplace=True)\n",
    "\n",
    "print(f'最终选定的特征数量: {len(features)}')\n",
    "print(features[:30])"
   ]
  },
  {
   "cell_type": "markdown",
   "id": "83e9743d",
   "metadata": {},
   "source": [
    "## 3. 时间顺序划分训练/测试集 (80/20)"
   ]
  },
  {
   "cell_type": "code",
   "execution_count": 4,
   "id": "3cbdd8ac",
   "metadata": {},
   "outputs": [
    {
     "name": "stdout",
     "output_type": "stream",
     "text": [
      "训练集大小: 6365 行\n",
      "测试集大小: 1592 行\n"
     ]
    }
   ],
   "source": [
    "# 按时间排序并做时间切分\n",
    "merged_df.sort_values('created_at', inplace=True)\n",
    "X = X.loc[merged_df.index]\n",
    "y = y.loc[merged_df.index]\n",
    "split_point = int(len(X) * 0.8)\n",
    "X_train, X_test = X.iloc[:split_point], X.iloc[split_point:]\n",
    "y_train, y_test = y.iloc[:split_point], y.iloc[split_point:]\n",
    "print(f'训练集大小: {X_train.shape[0]} 行')\n",
    "print(f'测试集大小: {X_test.shape[0]} 行')"
   ]
  },
  {
   "cell_type": "markdown",
   "id": "65e5c6f6",
   "metadata": {},
   "source": [
    "## 4. 特征标准化（可选）\n",
    "随机森林对尺度不敏感，但标准化有助于某些可视化和后续方法。"
   ]
  },
  {
   "cell_type": "code",
   "execution_count": 5,
   "id": "c7d869e7",
   "metadata": {},
   "outputs": [
    {
     "name": "stdout",
     "output_type": "stream",
     "text": [
      "特征标准化完成\n"
     ]
    }
   ],
   "source": [
    "scaler = StandardScaler()\n",
    "X_train_scaled = scaler.fit_transform(X_train)\n",
    "X_test_scaled = scaler.transform(X_test)\n",
    "print('特征标准化完成')"
   ]
  },
  {
   "cell_type": "markdown",
   "id": "fb929108",
   "metadata": {},
   "source": [
    "## 5. 模型训练 - 随机森林分类器\n",
    "使用 `class_weight='balanced'` 以缓解类别不平衡。"
   ]
  },
  {
   "cell_type": "code",
   "execution_count": 6,
   "id": "e1545740",
   "metadata": {},
   "outputs": [
    {
     "name": "stdout",
     "output_type": "stream",
     "text": [
      "模型训练完成\n"
     ]
    }
   ],
   "source": [
    "model = RandomForestClassifier(n_estimators=100, random_state=42, class_weight='balanced', n_jobs=-1)\n",
    "model.fit(X_train_scaled, y_train)\n",
    "print('模型训练完成')"
   ]
  },
  {
   "cell_type": "markdown",
   "id": "abb016e4",
   "metadata": {},
   "source": [
    "## 6. 预测与评估\n",
    "计算混淆矩阵、Accuracy、Precision、Recall、F1，并输出 `classification_report`。"
   ]
  },
  {
   "cell_type": "code",
   "execution_count": 8,
   "id": "97cb8d33",
   "metadata": {},
   "outputs": [
    {
     "name": "stdout",
     "output_type": "stream",
     "text": [
      "混淆矩阵:\n",
      "[[ 227  124]\n",
      " [  84 1157]]\n",
      "分类报告:\n",
      "                precision    recall  f1-score   support\n",
      "\n",
      "Not Merged (0)       0.73      0.65      0.69       351\n",
      "    Merged (1)       0.90      0.93      0.92      1241\n",
      "\n",
      "      accuracy                           0.87      1592\n",
      "     macro avg       0.82      0.79      0.80      1592\n",
      "  weighted avg       0.86      0.87      0.87      1592\n",
      "\n",
      "Accuracy: 0.8693, Precision: 0.9032, Recall: 0.9323, F1: 0.9175\n"
     ]
    }
   ],
   "source": [
    "# 预测\n",
    "predictions = model.predict(X_test_scaled)\n",
    "probs = model.predict_proba(X_test_scaled)[:, 1]\n",
    "\n",
    "# 评估指标\n",
    "cm = confusion_matrix(y_test, predictions)\n",
    "acc = accuracy_score(y_test, predictions)\n",
    "prec = precision_score(y_test, predictions, zero_division=0)\n",
    "rec = recall_score(y_test, predictions, zero_division=0)\n",
    "f1 = f1_score(y_test, predictions, zero_division=0)\n",
    "report = classification_report(y_test, predictions, target_names=['Not Merged (0)', 'Merged (1)'])\n",
    "\n",
    "print('混淆矩阵:')\n",
    "print(cm)\n",
    "print('分类报告:')\n",
    "print(report)\n",
    "print(f'Accuracy: {acc:.4f}, Precision: {prec:.4f}, Recall: {rec:.4f}, F1: {f1:.4f}')"
   ]
  },
  {
   "cell_type": "markdown",
   "id": "8db7988c",
   "metadata": {},
   "source": [
    "## 7. 可视化结果\n",
    "包括混淆矩阵热力图、预测概率分布、以及 Top 特征重要性条形图。"
   ]
  },
  {
   "cell_type": "code",
   "execution_count": 9,
   "id": "6458d360",
   "metadata": {},
   "outputs": [
    {
     "data": {
      "image/png": "[encoded data removed]",
      "text/plain": [
       "<Figure size 432x360 with 1 Axes>"
      ]
     },
     "metadata": {},
     "output_type": "display_data"
    },
    {
     "data": {
      "image/png": "[encoded data removed]",
      "text/plain": [
       "<Figure size 576x288 with 1 Axes>"
      ]
     },
     "metadata": {},
     "output_type": "display_data"
    },
    {
     "data": {
      "image/png": "[encoded data removed]",
      "text/plain": [
       "<Figure size 720x576 with 1 Axes>"
      ]
     },
     "metadata": {},
     "output_type": "display_data"
    }
   ],
   "source": [
    "# 混淆矩阵热力图\n",
    "plt.figure(figsize=(6,5))\n",
    "sns.heatmap(cm, annot=True, fmt='d', cmap='Blues', cbar=False, xticklabels=['Pred 0','Pred 1'], yticklabels=['True 0','True 1'])\n",
    "plt.title('混淆矩阵')\n",
    "plt.ylabel('真实标签')\n",
    "plt.xlabel('预测标签')\n",
    "plt.show()\n",
    "\n",
    "# 预测概率分布（被预测为合入的概率）\n",
    "plt.figure(figsize=(8,4))\n",
    "sns.histplot(probs, bins=30, kde=True, color='purple')\n",
    "plt.title('预测为合入的概率分布')\n",
    "plt.xlabel('预测概率 (P(merged=1))')\n",
    "plt.show()\n",
    "\n",
    "# 特征重要性可视化 Top 20\n",
    "feature_importances = pd.DataFrame({\n",
    "    'feature': features,\n",
    "    'importance': model.feature_importances_\n",
    "}).sort_values('importance', ascending=False)\n",
    "top_features = feature_importances.head(20)\n",
    "plt.figure(figsize=(10,8))\n",
    "sns.barplot(x='importance', y='feature', data=top_features, palette='viridis')\n",
    "plt.title('Top 20 特征重要性')\n",
    "plt.tight_layout()\n",
    "plt.show()"
   ]
  },
  {
   "cell_type": "markdown",
   "id": "6f6abeb9",
   "metadata": {},
   "source": [
    "## 8. 结论与建议\n",
    "\n",
    "### 8.1 问题与数据总结\n",
    "\n",
    "**任务定义**: 使用随机森林分类模型预测 GitHub Pull Request 是否会被合并（merged，二分类）。\n",
    "\n",
    "**数据来源**: \n",
    "- 使用单一仓库：yii2 项目\n",
    "- 数据规模：训练数据与测试数据共7k余条\n",
    "- 时间切分：按创建时间排序，前80%作为训练集，后20%作为测试集\n",
    "- 防泄漏措施：严格按时间顺序划分，确保测试集时间晚于训练集\n",
    "\n",
    "**特征工程**:\n",
    "- 使用数值型与布尔型特征（约 20-30 个数值特征），包括 PR 基础信息、代码统计、作者/审阅者特征等\n",
    "- 将布尔列转换为 0/1，处理无穷大值并用中位数填充缺失值\n",
    "- 为应对长尾或尺度差异，可对某些时长或计数特征做对数变换；对结果分析使用标准化（StandardScaler）以便比较特征重要性\n",
    "\n",
    "### 8.2 模型与方法\n",
    "\n",
    "**模型选择**: 随机森林分类器\n",
    "- 参数：n_estimators=100, random_state=42, class_weight='balanced'（用于缓解类别不平衡）\n",
    "- 选择理由：能够捕捉非线性关系与特征交互，对异常值鲁棒且训练/推理速度适中\n",
    "- 验证策略：按时间划分训练/测试，必要时使用时间序列交叉验证以避免信息泄漏\n",
    "\n",
    "### 8.3 结果与分析\n",
    "\n",
    "**模型性能**:\n",
    "- Accuracy：衡量整体正确率，但在类别不平衡时需结合其他指标判断；\n",
    "- Precision/Recall/F1：分别衡量预测为正类的精度、找回正类样本的能力与二者的调和平均；\n",
    "- ROC AUC / PR AUC：ROC AUC 表征总体区分能力，PR AUC 在正类稀少时更能反映模型在关注正类上的效果；\n",
    "\n",
    "**关键发现**:\n",
    "1. 模型通常能超过多数类基线，但在正类稀少或特征信号弱时，Precision 或 Recall 中会出现权衡；\n",
    "2. 混淆矩阵揭示常见误分类类型：FP（将未合入误判为合入）与 FN（将已合入误判为未合入），需根据业务成本决定优先优化哪一类错误；\n",
    "3. 特征重要性分析显示部分特征对预测贡献较大，可用于进一步特征工程或业务解释；\n",
    "\n",
    "### 8.4 对项目维护者的建议\n",
    "\n",
    "**优先级与工作流**:\n",
    "1. 智能优先级系统：基于模型输出与特征构建 PR 优先级评分，结合维护者可用性实现动态分配；\n",
    "2. 阈值策略：基于 Precision-Recall 曲线选择阈值（而非固定 0.5），以满足不同情景下的召回/精度需求；\n",
    "\n",
    "**数据与特征改进**:\n",
    "1. 添加时间序列特征：维护者负载、近期 PR 处理速率、项目活跃度等；\n",
    "2. 引入代码/文本特征：例如改动行数、文件类型、提交信息或 PR 描述中的关键词；\n",
    "3. 收集更细粒度的审查流程数据：每个审查步骤耗时、审阅者响应时间等；\n",
    "\n",
    "### 8.5 模型改进方向\n",
    "\n",
    "1. 算法与调参与集成：尝试 XGBoost/LightGBM，并通过网格/贝叶斯搜索优化超参数；可用模型融合提升稳定性；\n",
    "2. 处理不平衡：尝试上采样（SMOTE）、欠采样或代价敏感学习，并以 PR AUC 为主要评估指标；\n",
    "3. 跨项目泛化：收集多个仓库数据进行联合训练或做迁移学习/域适配以增强泛化能力；\n",
    "4. 上线监控与自动化：建立在线监控（Precision@k、PR AUC、预测分布漂移），并实现自动重训练策略以应对分布变化；"
   ]
  }
 ],
 "metadata": {
  "kernelspec": {
   "display_name": "pytorch",
   "language": "python",
   "name": "python3"
  },
  "language_info": {
   "codemirror_mode": {
    "name": "ipython",
    "version": 3
   },
   "file_extension": ".py",
   "mimetype": "text/x-python",
   "name": "python",
   "nbconvert_exporter": "python",
   "pygments_lexer": "ipython3",
   "version": "3.6.13"
  }
 },
 "nbformat": 4,
 "nbformat_minor": 5
}
