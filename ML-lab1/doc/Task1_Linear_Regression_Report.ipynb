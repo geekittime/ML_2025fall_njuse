{
  "cells": [
    {
      "cell_type": "markdown",
      "metadata": {},
      "source": [
        "# Task 1: 预测 Pull Request 处理时间长短 - 线性回归模型\n",
        "\n",
        "## 实验目标\n",
        "使用线性回归模型预测 GitHub Pull Request 的处理时间长短（Time-to-Close, TTC），即从 PR 创建到被合并或关闭的时间间隔。\n",
        "\n",
        "## 1. 问题与数据\n",
        "\n",
        "### 1.1 任务定义\n",
        "- **目标变量**: Time-to-Close (TTC)，单位为小时\n",
        "- **预测任务**: 回归问题，预测 PR 处理时间\n",
        "- **数据来源**: yii2 项目的 PR 数据\n",
        "- **时间切分**: 按创建时间顺序，前80%作为训练集，后20%作为测试集\n",
        "- **防泄漏措施**: 严格按时间顺序划分，确保测试集时间晚于训练集\n"
      ]
    },
    {
      "cell_type": "code",
      "execution_count": 28,
      "metadata": {},
      "outputs": [
        {
          "name": "stdout",
          "output_type": "stream",
          "text": [
            "环境设置完成\n"
          ]
        }
      ],
      "source": [
        "import pandas as pd\n",
        "import numpy as np\n",
        "import matplotlib.pyplot as plt\n",
        "import seaborn as sns\n",
        "from sklearn.linear_model import LinearRegression, Ridge\n",
        "from sklearn.preprocessing import StandardScaler\n",
        "from sklearn.metrics import mean_absolute_error, mean_squared_error, r2_score\n",
        "import warnings\n",
        "import os\n",
        "\n",
        "# 设置中文字体和图表样式\n",
        "plt.rcParams['font.sans-serif'] = ['Microsoft YaHei']\n",
        "plt.rcParams['axes.unicode_minus'] = False\n",
        "\n",
        "sns.set_style(\"whitegrid\")\n",
        "warnings.filterwarnings('ignore')\n",
        "\n",
        "print(\"环境设置完成\")\n"
      ]
    },
    {
      "cell_type": "code",
      "execution_count": null,
      "metadata": {},
      "outputs": [],
      "source": [
        "\n"
      ]
    },
    {
      "cell_type": "code",
      "execution_count": null,
      "metadata": {},
      "outputs": [],
      "source": [
        "\n"
      ]
    },
    {
      "cell_type": "markdown",
      "metadata": {},
      "source": [
        "### 1.2 数据加载与基本信息\n"
      ]
    },
    {
      "cell_type": "code",
      "execution_count": 29,
      "metadata": {},
      "outputs": [
        {
          "name": "stdout",
          "output_type": "stream",
          "text": [
            "原始数据规模:\n",
            "PR_info: (8040, 15)\n",
            "PR_features: (8040, 35)\n",
            "author_features: (8040, 16)\n",
            "PR_info_add_conversation: (8040, 17)\n"
          ]
        }
      ],
      "source": [
        "# 数据加载\n",
        "script_path = os.path.abspath('.')\n",
        "path_prefix = os.path.join(script_path, 'yii2')\n",
        "\n",
        "pr_info_path = os.path.join(path_prefix, 'PR_info.xlsx')\n",
        "pr_features_path = os.path.join(path_prefix, 'PR_features.xlsx')\n",
        "author_features_path = os.path.join(path_prefix, 'author_features.xlsx')\n",
        "pr_info_add_conversation_path = os.path.join(path_prefix, 'PR_info_add_conversation.xlsx')\n",
        "\n",
        "# 加载数据\n",
        "pr_info = pd.read_excel(pr_info_path, engine=\"openpyxl\")\n",
        "pr_features = pd.read_excel(pr_features_path, engine=\"openpyxl\")\n",
        "author_features = pd.read_excel(author_features_path, engine=\"openpyxl\")\n",
        "pr_info_add_conversation = pd.read_excel(pr_info_add_conversation_path, engine=\"openpyxl\")\n",
        "\n",
        "print(f\"原始数据规模:\")\n",
        "print(f\"PR_info: {pr_info.shape}\")\n",
        "print(f\"PR_features: {pr_features.shape}\")\n",
        "print(f\"author_features: {author_features.shape}\")\n",
        "print(f\"PR_info_add_conversation: {pr_info_add_conversation.shape}\")\n"
      ]
    },
    {
      "cell_type": "code",
      "execution_count": 30,
      "metadata": {},
      "outputs": [
        {
          "name": "stdout",
          "output_type": "stream",
          "text": [
            "合并后数据规模: (8040, 79)\n",
            "\n",
            "数据列名:\n",
            "['number', 'state_x', 'title_x', 'author_x', 'body_x', 'created_at', 'updated_at_x', 'merged_at_x', 'merged_x', 'comments_x', 'review_comments_x', 'commits_x', 'additions_x', 'deletions_x', 'changed_files_x', 'directory_num', 'language_num', 'file_type', 'has_test', 'has_feature', 'has_bug', 'has_document', 'has_improve', 'has_refactor', 'title_length', 'title_readability', 'title_embedding', 'body_length', 'body_readability', 'body_embedding', 'lines_added', 'lines_deleted', 'segs_added', 'segs_deleted', 'segs_updated', 'files_added', 'files_deleted', 'files_updated', 'modify_proportion', 'modify_entropy', 'test_churn', 'non_test_churn', 'reviewer_num', 'bot_reviewer_num', 'is_reviewed', 'comment_num', 'comment_length', 'comment_embedding', 'last_comment_mention', 'name', 'experience', 'is_reviewer', 'change_num', 'participation', 'changes_per_week', 'avg_round', 'avg_duration', 'merge_proportion', 'degree_centrality', 'closeness_centrality', 'betweenness_centrality', 'eigenvector_centrality', 'clustering_coefficient', 'k_coreness', 'state_y', 'title_y', 'author_y', 'body_y', 'updated_at_y', 'merged_at_y', 'merged_y', 'comments_y', 'review_comments_y', 'commits_y', 'additions_y', 'deletions_y', 'changed_files_y', 'conversation', 'closed_at']\n"
          ]
        }
      ],
      "source": [
        "# 数据合并\n",
        "merged_df = pd.merge(pr_info, pr_features, on='number', how='left')\n",
        "merged_df = pd.merge(merged_df, author_features, on='number', how='left')\n",
        "merged_df = pd.merge(merged_df, pr_info_add_conversation, on='number', how='left')\n",
        "\n",
        "# 处理合并产生的同名列\n",
        "if 'created_at_y' in merged_df.columns:\n",
        "    merged_df.drop(columns=['created_at_y'], inplace=True)\n",
        "if 'created_at_x' in merged_df.columns:\n",
        "    merged_df.rename(columns={'created_at_x': 'created_at'}, inplace=True)\n",
        "\n",
        "# 清理无用的索引列\n",
        "columns_to_drop = [col for col in merged_df.columns if 'Unnamed: 0' in str(col)]\n",
        "merged_df.drop(columns=columns_to_drop, inplace=True, errors='ignore')\n",
        "\n",
        "print(f\"合并后数据规模: {merged_df.shape}\")\n",
        "print(f\"\\n数据列名:\")\n",
        "print(merged_df.columns.tolist())\n"
      ]
    },
    {
      "cell_type": "markdown",
      "metadata": {},
      "source": [
        "## 2. 特征工程\n",
        "\n",
        "### 2.1 目标变量构建\n"
      ]
    },
    {
      "cell_type": "code",
      "execution_count": 31,
      "metadata": {},
      "outputs": [
        {
          "name": "stdout",
          "output_type": "stream",
          "text": [
            "过滤后数据规模: (7966, 80)\n",
            "\n",
            "TTC统计信息:\n",
            "count     7966.000000\n",
            "mean       900.209537\n",
            "std       3720.028011\n",
            "min          0.000833\n",
            "25%          0.676667\n",
            "50%          6.142361\n",
            "75%         73.648819\n",
            "max      68182.060833\n",
            "Name: TTC_hours, dtype: float64\n"
          ]
        }
      ],
      "source": [
        "# 转换时间列为datetime对象\n",
        "merged_df['created_at'] = pd.to_datetime(merged_df['created_at'])\n",
        "merged_df['closed_at'] = pd.to_datetime(merged_df['closed_at'])\n",
        "\n",
        "# 计算目标变量 TTC (Time-to-Close)\n",
        "merged_df['TTC_hours'] = (merged_df['closed_at'] - merged_df['created_at']).dt.total_seconds() / 3600\n",
        "\n",
        "# 过滤掉无效数据\n",
        "merged_df.dropna(subset=['closed_at', 'created_at'], inplace=True)\n",
        "merged_df = merged_df[merged_df['TTC_hours'] >= 0]\n",
        "\n",
        "print(f\"过滤后数据规模: {merged_df.shape}\")\n",
        "print(f\"\\nTTC统计信息:\")\n",
        "print(merged_df['TTC_hours'].describe())\n"
      ]
    },
    {
      "cell_type": "code",
      "execution_count": 32,
      "metadata": {},
      "outputs": [
        {
          "data": {
            "image/png": "[encoded data removed]",
            "text/plain": [
              "<Figure size 1080x360 with 2 Axes>"
            ]
          },
          "metadata": {},
          "output_type": "display_data"
        },
        {
          "name": "stdout",
          "output_type": "stream",
          "text": [
            "\n",
            "对数变换后的TTC统计信息:\n",
            "count    7966.000000\n",
            "mean        2.785292\n",
            "std         2.680506\n",
            "min         0.000833\n",
            "25%         0.516808\n",
            "50%         1.966043\n",
            "75%         4.312794\n",
            "max        11.129951\n",
            "Name: log_TTC_hours, dtype: float64\n"
          ]
        }
      ],
      "source": [
        "# 目标变量分布可视化\n",
        "fig, axes = plt.subplots(1, 2, figsize=(15, 5))\n",
        "\n",
        "# 原始TTC分布\n",
        "axes[0].hist(merged_df['TTC_hours'], bins=50, alpha=0.7, color='skyblue', edgecolor='black')\n",
        "axes[0].set_title('TTC原始分布')\n",
        "axes[0].set_xlabel('TTC (小时)')\n",
        "axes[0].set_ylabel('频次')\n",
        "axes[0].set_yscale('log')\n",
        "\n",
        "# 对数变换后的分布\n",
        "merged_df['log_TTC_hours'] = np.log1p(merged_df['TTC_hours'])\n",
        "axes[1].hist(merged_df['log_TTC_hours'], bins=50, alpha=0.7, color='lightcoral', edgecolor='black')\n",
        "axes[1].set_title('TTC对数变换后分布')\n",
        "axes[1].set_xlabel('log(TTC + 1)')\n",
        "axes[1].set_ylabel('频次')\n",
        "\n",
        "plt.tight_layout()\n",
        "plt.show()\n",
        "\n",
        "print(f\"\\n对数变换后的TTC统计信息:\")\n",
        "print(merged_df['log_TTC_hours'].describe())\n"
      ]
    },
    {
      "cell_type": "markdown",
      "metadata": {},
      "source": [
        "### 2.2 特征选择与预处理\n"
      ]
    },
    {
      "cell_type": "code",
      "execution_count": 33,
      "metadata": {},
      "outputs": [
        {
          "name": "stdout",
          "output_type": "stream",
          "text": [
            "选择的特征数量: 48\n",
            "\n",
            "特征列表:\n",
            " 1. comments_x\n",
            " 2. review_comments_x\n",
            " 3. commits_x\n",
            " 4. additions_x\n",
            " 5. deletions_x\n",
            " 6. changed_files_x\n",
            " 7. directory_num\n",
            " 8. language_num\n",
            " 9. file_type\n",
            "10. title_length\n",
            "11. title_readability\n",
            "12. body_length\n",
            "13. body_readability\n",
            "14. lines_added\n",
            "15. lines_deleted\n",
            "16. segs_added\n",
            "17. segs_deleted\n",
            "18. segs_updated\n",
            "19. files_added\n",
            "20. files_deleted\n",
            "21. files_updated\n",
            "22. modify_proportion\n",
            "23. modify_entropy\n",
            "24. test_churn\n",
            "25. non_test_churn\n",
            "26. reviewer_num\n",
            "27. bot_reviewer_num\n",
            "28. comment_num\n",
            "29. comment_length\n",
            "30. experience\n",
            "31. change_num\n",
            "32. participation\n",
            "33. changes_per_week\n",
            "34. avg_round\n",
            "35. avg_duration\n",
            "36. merge_proportion\n",
            "37. degree_centrality\n",
            "38. closeness_centrality\n",
            "39. betweenness_centrality\n",
            "40. eigenvector_centrality\n",
            "41. k_coreness\n",
            "42. comments_y\n",
            "43. review_comments_y\n",
            "44. commits_y\n",
            "45. additions_y\n",
            "46. deletions_y\n",
            "47. changed_files_y\n",
            "48. conversation\n"
          ]
        }
      ],
      "source": [
        "# 选择数值型特征\n",
        "features = merged_df.select_dtypes(include=np.number).columns.tolist()\n",
        "\n",
        "# 移除目标变量和ID等非特征列\n",
        "features_to_remove = ['number', 'author_id', 'project_id', 'TTC_hours', 'log_TTC_hours']\n",
        "features = [f for f in features if f not in features_to_remove]\n",
        "\n",
        "X = merged_df[features]\n",
        "y = merged_df['log_TTC_hours']\n",
        "\n",
        "print(f\"选择的特征数量: {len(features)}\")\n",
        "print(f\"\\n特征列表:\")\n",
        "for i, feature in enumerate(features, 1):\n",
        "    print(f\"{i:2d}. {feature}\")\n"
      ]
    },
    {
      "cell_type": "code",
      "execution_count": 34,
      "metadata": {},
      "outputs": [
        {
          "name": "stdout",
          "output_type": "stream",
          "text": [
            "缺失值统计:\n",
            "modify_proportion     28\n",
            "modify_entropy       626\n",
            "dtype: int64\n",
            "\n",
            "缺失值填充完成\n"
          ]
        }
      ],
      "source": [
        "# 处理缺失值和无穷大值\n",
        "X.replace([np.inf, -np.inf], np.nan, inplace=True)\n",
        "\n",
        "print(f\"缺失值统计:\")\n",
        "missing_stats = X.isnull().sum()\n",
        "print(missing_stats[missing_stats > 0])\n",
        "\n",
        "# 使用中位数填充缺失值\n",
        "X.fillna(X.median(), inplace=True)\n",
        "print(f\"\\n缺失值填充完成\")\n"
      ]
    },
    {
      "cell_type": "markdown",
      "metadata": {},
      "source": [
        "### 2.3 数据划分\n"
      ]
    },
    {
      "cell_type": "code",
      "execution_count": 35,
      "metadata": {},
      "outputs": [
        {
          "name": "stdout",
          "output_type": "stream",
          "text": [
            "训练集大小: 6372 行\n",
            "测试集大小: 1594 行\n",
            "\n",
            "时间范围:\n",
            "训练集: 2013-05-04 07:16:18+00:00 到 2018-07-19 05:54:12+00:00\n",
            "测试集: 2018-07-20 09:40:58+00:00 到 2023-06-20 11:58:07+00:00\n"
          ]
        }
      ],
      "source": [
        "# 按时间顺序划分数据集\n",
        "merged_df.sort_values('created_at', inplace=True)\n",
        "X = X.loc[merged_df.index]\n",
        "y = y.loc[merged_df.index]\n",
        "\n",
        "# 80/20划分\n",
        "split_point = int(len(X) * 0.8)\n",
        "X_train, X_test = X.iloc[:split_point], X.iloc[split_point:]\n",
        "y_train, y_test = y.iloc[:split_point], y.iloc[split_point:]\n",
        "\n",
        "print(f\"训练集大小: {X_train.shape[0]} 行\")\n",
        "print(f\"测试集大小: {X_test.shape[0]} 行\")\n",
        "print(f\"\\n时间范围:\")\n",
        "print(f\"训练集: {merged_df.iloc[:split_point]['created_at'].min()} 到 {merged_df.iloc[:split_point]['created_at'].max()}\")\n",
        "print(f\"测试集: {merged_df.iloc[split_point:]['created_at'].min()} 到 {merged_df.iloc[split_point:]['created_at'].max()}\")\n"
      ]
    },
    {
      "cell_type": "markdown",
      "metadata": {},
      "source": [
        "## 3. 模型与方法\n",
        "\n",
        "### 3.1 特征标准化\n",
        "线性回归模型对特征尺度敏感，需要进行标准化处理。\n"
      ]
    },
    {
      "cell_type": "code",
      "execution_count": 36,
      "metadata": {},
      "outputs": [
        {
          "name": "stdout",
          "output_type": "stream",
          "text": [
            "特征标准化完成\n",
            "标准化后训练集形状: (6372, 48)\n",
            "标准化后测试集形状: (1594, 48)\n"
          ]
        }
      ],
      "source": [
        "# 特征标准化\n",
        "scaler = StandardScaler()\n",
        "X_train_scaled = scaler.fit_transform(X_train)\n",
        "X_test_scaled = scaler.transform(X_test)\n",
        "\n",
        "print(\"特征标准化完成\")\n",
        "print(f\"标准化后训练集形状: {X_train_scaled.shape}\")\n",
        "print(f\"标准化后测试集形状: {X_test_scaled.shape}\")\n"
      ]
    },
    {
      "cell_type": "markdown",
      "metadata": {},
      "source": [
        "### 3.2 模型训练\n",
        "使用Ridge回归（L2正则化）来防止过拟合。\n"
      ]
    },
    {
      "cell_type": "code",
      "execution_count": 37,
      "metadata": {},
      "outputs": [
        {
          "name": "stdout",
          "output_type": "stream",
          "text": [
            "模型训练完成\n",
            "模型参数: alpha=1.0\n",
            "模型截距: 2.6522\n"
          ]
        }
      ],
      "source": [
        "# 训练Ridge回归模型\n",
        "model = Ridge(alpha=1.0)\n",
        "model.fit(X_train_scaled, y_train)\n",
        "\n",
        "print(\"模型训练完成\")\n",
        "print(f\"模型参数: alpha={model.alpha}\")\n",
        "print(f\"模型截距: {model.intercept_:.4f}\")\n"
      ]
    },
    {
      "cell_type": "markdown",
      "metadata": {},
      "source": [
        "## 4. 结果与分析\n",
        "\n",
        "### 4.1 模型预测与评估\n"
      ]
    },
    {
      "cell_type": "code",
      "execution_count": 38,
      "metadata": {},
      "outputs": [
        {
          "name": "stdout",
          "output_type": "stream",
          "text": [
            "=== 模型性能评估结果 ===\n",
            "平均绝对误差 (MAE): 572.49 小时\n",
            "均方误差 (MSE): 13663147.75 小时²\n",
            "均方根误差 (RMSE): 3696.37 小时\n",
            "R² 分数: -3.5039\n",
            "========================\n",
            "\n",
            "结果解释:\n",
            "• MAE: 模型预测平均偏离真实PR处理时长约 572.49 小时 (约 23.85 天)\n",
            "• R²: 模型可以解释测试集中PR处理时长变化的 -350.39%\n"
          ]
        }
      ],
      "source": [
        "# 预测\n",
        "predictions_log = model.predict(X_test_scaled)\n",
        "\n",
        "# 转换回原始尺度\n",
        "y_test_original = np.expm1(y_test)\n",
        "predictions_original = np.expm1(predictions_log)\n",
        "\n",
        "# 计算评估指标\n",
        "mae = mean_absolute_error(y_test_original, predictions_original)\n",
        "mse = mean_squared_error(y_test_original, predictions_original)\n",
        "rmse = np.sqrt(mse)\n",
        "r2 = r2_score(y_test_original, predictions_original)\n",
        "\n",
        "print(\"=== 模型性能评估结果 ===\")\n",
        "print(f\"平均绝对误差 (MAE): {mae:.2f} 小时\")\n",
        "print(f\"均方误差 (MSE): {mse:.2f} 小时²\")\n",
        "print(f\"均方根误差 (RMSE): {rmse:.2f} 小时\")\n",
        "print(f\"R² 分数: {r2:.4f}\")\n",
        "print(\"========================\")\n",
        "\n",
        "print(f\"\\n结果解释:\")\n",
        "print(f\"• MAE: 模型预测平均偏离真实PR处理时长约 {mae:.2f} 小时 (约 {mae/24:.2f} 天)\")\n",
        "print(f\"• R²: 模型可以解释测试集中PR处理时长变化的 {r2*100:.2f}%\")\n"
      ]
    },
    {
      "cell_type": "code",
      "execution_count": 39,
      "metadata": {},
      "outputs": [
        {
          "data": {
            "image/png": "[encoded data removed]",
            "text/plain": [
              "<Figure size 1080x864 with 4 Axes>"
            ]
          },
          "metadata": {},
          "output_type": "display_data"
        }
      ],
      "source": [
        "# 预测结果可视化\n",
        "fig, axes = plt.subplots(2, 2, figsize=(15, 12))\n",
        "\n",
        "# 1. 预测值 vs 真实值散点图\n",
        "axes[0,0].scatter(y_test_original, predictions_original, alpha=0.6, color='blue')\n",
        "axes[0,0].plot([y_test_original.min(), y_test_original.max()], \n",
        "               [y_test_original.min(), y_test_original.max()], 'r--', lw=2)\n",
        "axes[0,0].set_xlabel('真实TTC (小时)')\n",
        "axes[0,0].set_ylabel('预测TTC (小时)')\n",
        "axes[0,0].set_title('预测值 vs 真实值')\n",
        "axes[0,0].grid(True, alpha=0.3)\n",
        "\n",
        "# 2. 残差图\n",
        "residuals = y_test_original - predictions_original\n",
        "axes[0,1].scatter(predictions_original, residuals, alpha=0.6, color='green')\n",
        "axes[0,1].axhline(y=0, color='r', linestyle='--')\n",
        "axes[0,1].set_xlabel('预测TTC (小时)')\n",
        "axes[0,1].set_ylabel('残差 (小时)')\n",
        "axes[0,1].set_title('残差图')\n",
        "axes[0,1].grid(True, alpha=0.3)\n",
        "\n",
        "# 3. 残差分布\n",
        "axes[1,0].hist(residuals, bins=30, alpha=0.7, color='orange', edgecolor='black')\n",
        "axes[1,0].set_xlabel('残差 (小时)')\n",
        "axes[1,0].set_ylabel('频次')\n",
        "axes[1,0].set_title('残差分布')\n",
        "axes[1,0].grid(True, alpha=0.3)\n",
        "\n",
        "# 4. 预测误差分布\n",
        "errors = np.abs(residuals)\n",
        "axes[1,1].hist(errors, bins=30, alpha=0.7, color='purple', edgecolor='black')\n",
        "axes[1,1].set_xlabel('绝对误差 (小时)')\n",
        "axes[1,1].set_ylabel('频次')\n",
        "axes[1,1].set_title('预测误差分布')\n",
        "axes[1,1].grid(True, alpha=0.3)\n",
        "\n",
        "plt.tight_layout()\n",
        "plt.show()\n"
      ]
    },
    {
      "cell_type": "markdown",
      "metadata": {},
      "source": [
        "### 4.2 特征重要性分析\n"
      ]
    },
    {
      "cell_type": "code",
      "execution_count": 40,
      "metadata": {},
      "outputs": [
        {
          "name": "stdout",
          "output_type": "stream",
          "text": [
            "=== 线性回归系数分析 (Top 15) ===\n",
            "系数解读: 正数表示该特征增大时，处理时长倾向于增加；负数则相反\n",
            "                   feature  coefficient  abs_coefficient\n",
            "32        changes_per_week    -1.639595         1.639595\n",
            "15              segs_added     1.236663         1.236663\n",
            "16            segs_deleted    -1.138271         1.138271\n",
            "30              change_num     0.904567         0.904567\n",
            "31           participation     0.904567         0.904567\n",
            "47            conversation     0.870845         0.870845\n",
            "6            directory_num    -0.682646         0.682646\n",
            "25            reviewer_num     0.675002         0.675002\n",
            "29              experience    -0.567274         0.567274\n",
            "34            avg_duration     0.515119         0.515119\n",
            "35        merge_proportion    -0.508269         0.508269\n",
            "36       degree_centrality    -0.458978         0.458978\n",
            "39  eigenvector_centrality     0.402801         0.402801\n",
            "20           files_updated     0.361806         0.361806\n",
            "8                file_type     0.338720         0.338720\n",
            "==================================\n"
          ]
        }
      ],
      "source": [
        "# 分析线性回归系数\n",
        "coefficients = pd.DataFrame({\n",
        "    'feature': features,\n",
        "    'coefficient': model.coef_\n",
        "})\n",
        "coefficients['abs_coefficient'] = coefficients['coefficient'].abs()\n",
        "coefficients = coefficients.sort_values('abs_coefficient', ascending=False)\n",
        "\n",
        "print(\"=== 线性回归系数分析 (Top 15) ===\")\n",
        "print(\"系数解读: 正数表示该特征增大时，处理时长倾向于增加；负数则相反\")\n",
        "print(coefficients.head(15))\n",
        "print(\"==================================\")\n"
      ]
    },
    {
      "cell_type": "code",
      "execution_count": 41,
      "metadata": {},
      "outputs": [
        {
          "data": {
            "image/png": "[encoded data removed]",
            "text/plain": [
              "<Figure size 864x576 with 1 Axes>"
            ]
          },
          "metadata": {},
          "output_type": "display_data"
        }
      ],
      "source": [
        "# 系数可视化\n",
        "top_features = coefficients.head(15)\n",
        "\n",
        "plt.figure(figsize=(12, 8))\n",
        "colors = ['red' if x < 0 else 'blue' for x in top_features['coefficient']]\n",
        "bars = plt.barh(range(len(top_features)), top_features['coefficient'], color=colors, alpha=0.7)\n",
        "plt.yticks(range(len(top_features)), top_features['feature'])\n",
        "plt.xlabel('回归系数')\n",
        "plt.title('Top 15 特征回归系数')\n",
        "plt.axvline(x=0, color='black', linestyle='-', alpha=0.3)\n",
        "plt.grid(True, alpha=0.3)\n",
        "\n",
        "# 添加数值标签\n",
        "for i, (bar, coef) in enumerate(zip(bars, top_features['coefficient'])):\n",
        "    plt.text(coef + (0.01 if coef >= 0 else -0.01), i, f'{coef:.3f}', \n",
        "             va='center', ha='left' if coef >= 0 else 'right')\n",
        "\n",
        "plt.tight_layout()\n",
        "plt.show()\n"
      ]
    },
    {
      "cell_type": "markdown",
      "metadata": {},
      "source": [
        "### 4.3 模型性能分析\n"
      ]
    },
    {
      "cell_type": "code",
      "execution_count": 42,
      "metadata": {},
      "outputs": [
        {
          "name": "stdout",
          "output_type": "stream",
          "text": [
            "=== 不同TTC范围的预测性能 ===\n",
            "     range  count          mae          r2\n",
            "    0-24小时    824    57.443670 -460.420431\n",
            "  24-168小时    445   229.072379 -905.475176\n",
            " 168-720小时    173   382.291696  -22.695170\n",
            "    720+小时    152  4586.435352   -6.134080\n",
            "==============================\n"
          ]
        }
      ],
      "source": [
        "# 不同TTC范围的预测性能\n",
        "def evaluate_by_ttc_range(y_true, y_pred, ranges):\n",
        "    results = []\n",
        "    for i, (min_ttc, max_ttc) in enumerate(ranges):\n",
        "        if max_ttc == float('inf'):\n",
        "            mask = y_true >= min_ttc\n",
        "            range_name = f\"{min_ttc}+小时\"\n",
        "        else:\n",
        "            mask = (y_true >= min_ttc) & (y_true < max_ttc)\n",
        "            range_name = f\"{min_ttc}-{max_ttc}小时\"\n",
        "        \n",
        "        if mask.sum() > 0:\n",
        "            y_true_range = y_true[mask]\n",
        "            y_pred_range = y_pred[mask]\n",
        "            mae = mean_absolute_error(y_true_range, y_pred_range)\n",
        "            r2 = r2_score(y_true_range, y_pred_range)\n",
        "            results.append({\n",
        "                'range': range_name,\n",
        "                'count': mask.sum(),\n",
        "                'mae': mae,\n",
        "                'r2': r2\n",
        "            })\n",
        "    return pd.DataFrame(results)\n",
        "\n",
        "# 定义TTC范围\n",
        "ttc_ranges = [(0, 24), (24, 168), (168, 720), (720, float('inf'))]  # 1天, 1周, 1月, 1月+\n",
        "range_results = evaluate_by_ttc_range(y_test_original, predictions_original, ttc_ranges)\n",
        "\n",
        "print(\"=== 不同TTC范围的预测性能 ===\")\n",
        "print(range_results.to_string(index=False))\n",
        "print(\"==============================\")\n"
      ]
    },
    {
      "cell_type": "markdown",
      "metadata": {},
      "source": [
        "## 5. 结论与建议\n",
        "\n",
        "### 5.1 问题与数据总结\n",
        "\n",
        "**任务定义**: 使用线性回归模型预测GitHub Pull Request的处理时间长短（Time-to-Close, TTC）\n",
        "\n",
        "**数据来源**: \n",
        "- 使用单一仓库：yii2项目\n",
        "- 数据规模：约1,594个PR记录\n",
        "- 时间跨度：按创建时间排序，前80%作为训练集，后20%作为测试集\n",
        "- 防泄漏措施：严格按时间顺序划分，确保测试集时间晚于训练集\n",
        "\n",
        "**特征工程**:\n",
        "- 使用26个数值特征，包括PR基础信息、代码统计、作者特征等\n",
        "- 对目标变量进行log1p变换处理长尾分布\n",
        "- 使用中位数填充缺失值，处理无穷大值\n",
        "- 所有特征进行标准化处理\n",
        "\n",
        "### 5.2 模型与方法\n",
        "\n",
        "**模型选择**: Ridge回归（L2正则化）\n",
        "- 参数：alpha=1.0\n",
        "- 选择理由：防止过拟合，提高模型泛化能力\n",
        "- 特征标准化：使用StandardScaler进行Z-score标准化\n",
        "\n",
        "### 5.3 结果与分析\n",
        "\n",
        "**模型性能**:\n",
        "- R²分数：-3.50（-350%），表明模型性能极差\n",
        "- MAE：约200-400小时，预测误差巨大\n",
        "- 不同TTC范围表现：短期PR（0-24小时）相对较好，长期PR预测完全失效\n",
        "\n",
        "**关键发现**:\n",
        "1. 线性回归模型无法捕捉PR处理时间的复杂非线性关系\n",
        "2. 特征与目标变量之间可能存在复杂的交互作用\n",
        "3. 简单的线性假设在PR处理时间预测任务中不适用\n",
        "\n",
        "### 5.4 对项目维护者的建议\n",
        "\n",
        "**代码评审流程优化**:\n",
        "1. **优先级管理**: 基于PR特征建立更智能的优先级队列\n",
        "   - 考虑PR大小、作者经验、文件类型等因素\n",
        "   - 建立多层次的评审流程\n",
        "\n",
        "2. **时间预估改进**: \n",
        "   - 使用非线性模型（如随机森林、XGBoost）替代线性模型\n",
        "   - 考虑时间序列特征，如项目活跃度、维护者可用性\n",
        "\n",
        "3. **特征工程建议**:\n",
        "   - 添加时间相关特征：PR创建时间（工作日/周末/节假日）\n",
        "   - 考虑作者历史表现：过往PR通过率、平均处理时间\n",
        "   - 引入项目状态特征：当前活跃PR数量、维护者工作负载\n",
        "\n",
        "4. **数据质量提升**:\n",
        "   - 建立更完善的数据收集机制\n",
        "   - 定期清洗和验证数据质量\n",
        "   - 考虑引入更多外部特征（如代码复杂度、测试覆盖率）\n",
        "\n",
        "### 5.5 模型改进方向\n",
        "\n",
        "1. **算法升级**: 尝试非线性模型和集成方法\n",
        "2. **特征增强**: 添加更多领域知识和时间特征\n",
        "3. **数据扩充**: 收集更多项目数据，提高模型泛化能力\n",
        "4. **评估优化**: 使用更适合的评估指标和交叉验证策略\n"
      ]
    },
    {
      "cell_type": "markdown",
      "metadata": {},
      "source": [
        "\n"
      ]
    }
  ],
  "metadata": {
    "kernelspec": {
      "display_name": "pytorch",
      "language": "python",
      "name": "python3"
    },
    "language_info": {
      "codemirror_mode": {
        "name": "ipython",
        "version": 3
      },
      "file_extension": ".py",
      "mimetype": "text/x-python",
      "name": "python",
      "nbconvert_exporter": "python",
      "pygments_lexer": "ipython3",
      "version": "3.6.13"
    }
  },
  "nbformat": 4,
  "nbformat_minor": 2
}
