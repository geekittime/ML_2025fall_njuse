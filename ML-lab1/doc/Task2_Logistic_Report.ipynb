{
 "cells": [
  {
   "cell_type": "markdown",
   "id": "83886244",
   "metadata": {},
   "source": [
    "# Task 2 : 预测 Pull Request 是否被合并 - 逻辑回归模型\n",
    "\n",
    "## 实验目标\n",
    "使用逻辑回归模型预测 PR 是否被合并（merged，二分类）。该报告包含数据加载、特征工程、时间切分、模型训练、评估指标与可视化，并给出结论与建议。"
   ]
  },
  {
   "cell_type": "code",
   "execution_count": 1,
   "id": "5bc9d4b5",
   "metadata": {},
   "outputs": [
    {
     "name": "stdout",
     "output_type": "stream",
     "text": [
      "环境设置完成\n"
     ]
    }
   ],
   "source": [
    "import pandas as pd\n",
    "import numpy as np\n",
    "import matplotlib.pyplot as plt\n",
    "import seaborn as sns\n",
    "from sklearn.linear_model import LogisticRegression\n",
    "from sklearn.metrics import accuracy_score, precision_score, recall_score, f1_score, confusion_matrix, classification_report, roc_auc_score, precision_recall_curve, auc, precision_recall_fscore_support\n",
    "from sklearn.preprocessing import StandardScaler\n",
    "import warnings\n",
    "import os\n",
    "\n",
    "plt.rcParams['font.sans-serif'] = ['SimHei']\n",
    "plt.rcParams['axes.unicode_minus'] = False\n",
    "sns.set_style('whitegrid')\n",
    "warnings.filterwarnings('ignore')\n",
    "\n",
    "print('环境设置完成')"
   ]
  },
  {
   "cell_type": "markdown",
   "id": "0aabc333",
   "metadata": {},
   "source": [
    "## 1. 数据加载与基本信息"
   ]
  },
  {
   "cell_type": "code",
   "execution_count": 2,
   "id": "22256f56",
   "metadata": {},
   "outputs": [
    {
     "name": "stdout",
     "output_type": "stream",
     "text": [
      "尝试加载: d:\\Develop\\ML\\Lab1\\ML_2025fall_njuse\\ML-lab1\\yii2\\PR_extracted_features.xlsx\n",
      "数据规模: (7957, 17)\n",
      "['number', 'created_at', 'updated_at', 'merged_at', 'closed_at', 'merged', 'additions', 'deletions', 'last_pr_update', 'title_length', 'body_length', 'files_added', 'files_deleted', 'files_updated', 'changes_per_week', 'merge_proportion', 'last_comment_update']\n",
      "   number          created_at          updated_at           merged_at  \\\n",
      "0      79 2013-05-04 07:16:18 2013-05-04 12:18:36                 NaT   \n",
      "1      81 2013-05-04 07:48:47 2013-05-04 14:06:07                 NaT   \n",
      "2      86 2013-05-04 14:03:54 2014-07-04 00:31:34 2013-05-04 14:04:53   \n",
      "3      88 2013-05-04 14:58:32 2013-05-04 16:54:07 2013-05-04 16:53:32   \n",
      "4      89 2013-05-04 17:39:04 2013-05-04 18:12:59 2013-05-04 18:12:58   \n",
      "\n",
      "            closed_at  merged  additions  deletions  last_pr_update  \\\n",
      "0 2013-05-04 12:18:36   False          3          3        5.038333   \n",
      "1 2013-05-04 12:04:11   False         13          0        6.288889   \n",
      "2 2013-05-04 14:04:53    True          1          1    10210.461111   \n",
      "3 2013-05-04 16:53:32    True         13          7        1.926389   \n",
      "4 2013-05-04 18:12:58    True         15          1        0.565278   \n",
      "\n",
      "   title_length  body_length  files_added  files_deleted  files_updated  \\\n",
      "0            44            0            0              0              1   \n",
      "1            52          595            1              0              1   \n",
      "2            18          705            0              0              1   \n",
      "3            16            0            1              0              0   \n",
      "4            18          650            1              0              1   \n",
      "\n",
      "   changes_per_week  merge_proportion  last_comment_update  \n",
      "0          0.001880          0.000000             5.038333  \n",
      "1          0.001880          0.000000             2.703611  \n",
      "2          0.001880          1.000000             0.018611  \n",
      "3          0.003760          0.500000             1.926389  \n",
      "4          0.005641          0.666667             0.564167  \n"
     ]
    }
   ],
   "source": [
    "project_name = 'yii2'\n",
    "base_dir = os.path.abspath('..')\n",
    "data_path = os.path.join(base_dir, project_name, 'PR_extracted_features.xlsx')\n",
    "print(f'尝试加载: {data_path}')\n",
    "merged_df = pd.read_excel(data_path, engine='openpyxl')\n",
    "print(f'数据规模: {merged_df.shape}')\n",
    "print(merged_df.columns.tolist())\n",
    "print(merged_df.head())"
   ]
  },
  {
   "cell_type": "markdown",
   "id": "5030379f",
   "metadata": {},
   "source": [
    "## 2. 特征工程与预处理"
   ]
  },
  {
   "cell_type": "code",
   "execution_count": 3,
   "id": "15804a9d",
   "metadata": {},
   "outputs": [
    {
     "name": "stdout",
     "output_type": "stream",
     "text": [
      "缺失值统计(>0):\n",
      "last_comment_update    709\n",
      "dtype: int64\n",
      "最终选定特征数量: 11\n",
      "['additions', 'deletions', 'last_pr_update', 'title_length', 'body_length', 'files_added', 'files_deleted', 'files_updated', 'changes_per_week', 'merge_proportion', 'last_comment_update']\n"
     ]
    }
   ],
   "source": [
    "for bool_col in merged_df.select_dtypes(include=bool).columns.tolist():\n",
    "    merged_df[bool_col] = merged_df[bool_col].astype(int)\n",
    "\n",
    "y = merged_df['merged']\n",
    "merged_df['created_at'] = pd.to_datetime(merged_df['created_at'])\n",
    "\n",
    "features = merged_df.select_dtypes(include=np.number).columns.tolist()\n",
    "features_to_remove = ['number', 'merged']\n",
    "features = [f for f in features if f not in features_to_remove]\n",
    "X = merged_df[features].copy()\n",
    "X.replace([np.inf, -np.inf], np.nan, inplace=True)\n",
    "print('缺失值统计(>0):')\n",
    "print(X.isnull().sum()[X.isnull().sum() > 0])\n",
    "X.fillna(X.median(), inplace=True)\n",
    "print(f'最终选定特征数量: {len(features)}')\n",
    "print(features[:30])"
   ]
  },
  {
   "cell_type": "markdown",
   "id": "a6afc3fc",
   "metadata": {},
   "source": [
    "## 3. 时间顺序划分 (80/20)"
   ]
  },
  {
   "cell_type": "code",
   "execution_count": 4,
   "id": "6444a316",
   "metadata": {},
   "outputs": [
    {
     "name": "stdout",
     "output_type": "stream",
     "text": [
      "训练集大小: 6365 行\n",
      "测试集大小: 1592 行\n"
     ]
    }
   ],
   "source": [
    "merged_df.sort_values('created_at', inplace=True)\n",
    "X = X.loc[merged_df.index]\n",
    "y = y.loc[merged_df.index]\n",
    "split_point = int(len(X) * 0.8)\n",
    "X_train, X_test = X.iloc[:split_point], X.iloc[split_point:]\n",
    "y_train, y_test = y.iloc[:split_point], y.iloc[split_point:]\n",
    "print(f'训练集大小: {X_train.shape[0]} 行')\n",
    "print(f'测试集大小: {X_test.shape[0]} 行')"
   ]
  },
  {
   "cell_type": "markdown",
   "id": "a46ba93f",
   "metadata": {},
   "source": [
    "## 4. 特征标准化"
   ]
  },
  {
   "cell_type": "code",
   "execution_count": 5,
   "id": "189955c1",
   "metadata": {},
   "outputs": [
    {
     "name": "stdout",
     "output_type": "stream",
     "text": [
      "标准化完成\n"
     ]
    }
   ],
   "source": [
    "scaler = StandardScaler()\n",
    "X_train_scaled = scaler.fit_transform(X_train)\n",
    "X_test_scaled = scaler.transform(X_test)\n",
    "print('标准化完成')"
   ]
  },
  {
   "cell_type": "markdown",
   "id": "93ab3e60",
   "metadata": {},
   "source": [
    "## 5. 模型训练 - Logistic 回归\n",
    "使用带 L2 正则的 LogisticRegression，并设置 class_weight='balanced'（防止不平衡）。"
   ]
  },
  {
   "cell_type": "code",
   "execution_count": 6,
   "id": "72b21b7d",
   "metadata": {},
   "outputs": [
    {
     "name": "stdout",
     "output_type": "stream",
     "text": [
      "模型训练完成\n"
     ]
    }
   ],
   "source": [
    "model = LogisticRegression(random_state=42, max_iter=1000, class_weight='balanced')\n",
    "model.fit(X_train_scaled, y_train)\n",
    "print('模型训练完成')"
   ]
  },
  {
   "cell_type": "markdown",
   "id": "b44d019e",
   "metadata": {},
   "source": [
    "## 6. 预测与评估\n",
    "计算混淆矩阵、分类报告、ROC AUC、PR AUC，以及每类的 precision/recall/f1。"
   ]
  },
  {
   "cell_type": "code",
   "execution_count": 8,
   "id": "2ba4ecfa",
   "metadata": {},
   "outputs": [
    {
     "name": "stdout",
     "output_type": "stream",
     "text": [
      "混淆矩阵:\n",
      "[[ 242  109]\n",
      " [ 126 1115]]\n",
      "分类报告:\n",
      "                precision    recall  f1-score   support\n",
      "\n",
      "Not Merged (0)       0.66      0.69      0.67       351\n",
      "    Merged (1)       0.91      0.90      0.90      1241\n",
      "\n",
      "      accuracy                           0.85      1592\n",
      "     macro avg       0.78      0.79      0.79      1592\n",
      "  weighted avg       0.86      0.85      0.85      1592\n",
      "\n",
      "Accuracy: 0.8524, Precision: 0.9109, Recall: 0.8985, F1: 0.9047\n",
      "每类指标:\n",
      " class  precision    recall        f1\n",
      "     0   0.657609  0.689459  0.673157\n",
      "     1   0.910948  0.898469  0.904665\n",
      "额外指标:\n",
      "ROC AUC: 0.9163\n",
      "PR AUC: 0.9741\n",
      "类别分布:\n",
      "   count      prop\n",
      "0    351  0.220477\n",
      "1   1241  0.779523\n",
      "多数类基线准确率: 0.7795\n"
     ]
    }
   ],
   "source": [
    "preds = model.predict(X_test_scaled)\n",
    "probs = model.predict_proba(X_test_scaled)[:, 1]\n",
    "cm = confusion_matrix(y_test, preds)\n",
    "acc = accuracy_score(y_test, preds)\n",
    "prec = precision_score(y_test, preds, zero_division=0)\n",
    "rec = recall_score(y_test, preds, zero_division=0)\n",
    "f1 = f1_score(y_test, preds, zero_division=0)\n",
    "report = classification_report(y_test, preds, target_names=['Not Merged (0)', 'Merged (1)'])\n",
    "precision_curve, recall_curve, _ = precision_recall_curve(y_test, probs)\n",
    "pr_auc = auc(recall_curve, precision_curve)\n",
    "try:\n",
    "    roc_auc = roc_auc_score(y_test, probs)\n",
    "except Exception:\n",
    "    roc_auc = None\n",
    "p, r, f, _ = precision_recall_fscore_support(y_test, preds, zero_division=0)\n",
    "metrics_df = pd.DataFrame({'class':[0,1], 'precision':p, 'recall':r, 'f1':f})\n",
    "class_counts = y_test.value_counts().sort_index()\n",
    "class_props = y_test.value_counts(normalize=True).sort_index()\n",
    "majority_base = class_counts.max()/len(y_test)\n",
    "print('混淆矩阵:')\n",
    "print(cm)\n",
    "print('分类报告:')\n",
    "print(report)\n",
    "print(f'Accuracy: {acc:.4f}, Precision: {prec:.4f}, Recall: {rec:.4f}, F1: {f1:.4f}')\n",
    "print('每类指标:')\n",
    "print(metrics_df.to_string(index=False))\n",
    "print('额外指标:')\n",
    "if roc_auc is not None:\n",
    "    print(f'ROC AUC: {roc_auc:.4f}')\n",
    "else:\n",
    "    print('ROC AUC 计算失败（可能单一类别）')\n",
    "print(f'PR AUC: {pr_auc:.4f}')\n",
    "print('类别分布:')\n",
    "print(pd.DataFrame({'count':class_counts, 'prop':class_props}))\n",
    "print(f'多数类基线准确率: {majority_base:.4f}')"
   ]
  },
  {
   "cell_type": "markdown",
   "id": "4146c2a9",
   "metadata": {},
   "source": [
    "## 7. 可视化\n",
    "画出混淆矩阵热力图、PR 曲线、ROC 曲线（若可用）和最重要特征系数（绝对值排序）。"
   ]
  },
  {
   "cell_type": "code",
   "execution_count": 9,
   "id": "993a8a9b",
   "metadata": {},
   "outputs": [
    {
     "data": {
      "image/png": "[encoded data removed]",
      "text/plain": [
       "<Figure size 432x360 with 2 Axes>"
      ]
     },
     "metadata": {},
     "output_type": "display_data"
    },
    {
     "data": {
      "image/png": "[encoded data removed]",
      "text/plain": [
       "<Figure size 432x288 with 1 Axes>"
      ]
     },
     "metadata": {},
     "output_type": "display_data"
    },
    {
     "data": {
      "image/png": "[encoded data removed]",
      "text/plain": [
       "<Figure size 432x288 with 1 Axes>"
      ]
     },
     "metadata": {},
     "output_type": "display_data"
    },
    {
     "data": {
      "image/png": "[encoded data removed]",
      "text/plain": [
       "<Figure size 720x576 with 1 Axes>"
      ]
     },
     "metadata": {},
     "output_type": "display_data"
    }
   ],
   "source": [
    "# 混淆矩阵热力图\n",
    "plt.figure(figsize=(6,5))\n",
    "sns.heatmap(cm, annot=True, fmt='d', cmap='Blues', xticklabels=['Pred 0','Pred 1'], yticklabels=['True 0','True 1'])\n",
    "plt.title('混淆矩阵')\n",
    "plt.ylabel('真实标签')\n",
    "plt.xlabel('预测标签')\n",
    "plt.show()\n",
    "\n",
    "# PR 曲线\n",
    "plt.figure(figsize=(6,4))\n",
    "plt.plot(recall_curve, precision_curve, label=f'PR AUC={pr_auc:.3f}')\n",
    "plt.xlabel('Recall')\n",
    "plt.ylabel('Precision')\n",
    "plt.title('Precision-Recall Curve')\n",
    "plt.legend()\n",
    "plt.grid(True)\n",
    "plt.show()\n",
    "\n",
    "# ROC 曲线（若可用）\n",
    "if roc_auc is not None:\n",
    "    from sklearn.metrics import roc_curve\n",
    "    fpr, tpr, _ = roc_curve(y_test, probs)\n",
    "    plt.figure(figsize=(6,4))\n",
    "    plt.plot(fpr, tpr, label=f'ROC AUC={roc_auc:.3f}')\n",
    "    plt.plot([0,1],[0,1],'k--')\n",
    "    plt.xlabel('FPR')\n",
    "    plt.ylabel('TPR')\n",
    "    plt.title('ROC Curve')\n",
    "    plt.legend()\n",
    "    plt.grid(True)\n",
    "    plt.show()\n",
    "\n",
    "# 特征系数（按绝对值排序）\n",
    "coef_df = pd.DataFrame({'feature': features, 'coef': model.coef_.ravel()})\n",
    "coef_df['abs_coef'] = coef_df['coef'].abs()\n",
    "coef_df = coef_df.sort_values('abs_coef', ascending=False).head(20)\n",
    "plt.figure(figsize=(10,8))\n",
    "sns.barplot(x='abs_coef', y='feature', data=coef_df, palette='coolwarm')\n",
    "plt.title('Top 20 特征重要性（基于 Logistic Coef 的绝对值）')\n",
    "plt.xlabel('abs(coef)')\n",
    "plt.tight_layout()\n",
    "plt.show()"
   ]
  },
  {
   "cell_type": "markdown",
   "id": "e34a5b6c",
   "metadata": {},
   "source": [
    "## 8. 结论与建议\n",
    "\n",
    "### 8.1 问题与数据总结\n",
    "\n",
    "**任务定义**: 使用逻辑回归模型预测 GitHub Pull Request 是否会被合并（merged，二分类）。\n",
    "\n",
    "**数据来源**: \n",
    "- 默认使用 yii2 项目的已提取特征（可替换为 llvm 或 ray 进行横向对比）\n",
    "- 数据规模：取决于所选项目与清洗策略（通常为数百至上千条 PR 记录）\n",
    "- 时间切分：按创建时间排序，前80%作为训练集，后20%作为测试集，以避免信息泄露\n",
    "\n",
    "**特征工程**:\n",
    "- 将布尔列转换为 0/1，选择数值型特征并移除 ID 与目标列；\n",
    "- 处理无穷大与缺失值，使用中位数填充；对部分长尾特征可考虑 log1p 变换；\n",
    "- 对模型训练与系数解释使用 StandardScaler 标准化特征。\n",
    "\n",
    "### 8.2 模型与方法\n",
    "\n",
    "**模型选择**: 逻辑回归（LogisticRegression, L2 正则）\n",
    "- 参数：max_iter=1000, class_weight='balanced'（如存在类别不平衡），random_state=42；\n",
    "- 选择理由：模型简单、易解释（系数可直接用于判断特征方向），适合作为基线模型；\n",
    "- 验证策略：按时间划分训练/测试，必要时使用时间序列交叉验证。\n",
    "\n",
    "### 8.3 结果与分析\n",
    "\n",
    "**模型性能（示例指标）**:\n",
    "- Accuracy：衡量整体正确率；在不平衡数据集上需结合 precision/recall/PR AUC 评估；\n",
    "- Precision/Recall/F1：分别衡量预测为正类的精度、召回正类的能力与二者的折中；\n",
    "- ROC AUC / PR AUC：ROC AUC 反映总体区分能力，PR AUC 在正类稀少时更具参考价值；\n",
    "\n",
    "**关键发现（可能的观察）**:\n",
    "1. 逻辑回归能够提供稳定且可解释的基线结果；\n",
    "2. 若 PR AUC 明显低于理想值或模型在正类上的 recall 偏低，说明需要对正类样本及特征进行改进；\n",
    "3. 混淆矩阵中的误分类（FP 与 FN）需要结合业务成本进行权衡——例如优先减少 FN 可增加召回但可能牺牲精度，适合对漏审有较高成本的场景；\n",
    "4. 逻辑回归系数提供了线性可解释性，可用于快速定位对预测影响最大的特征（正/负方向）。\n",
    "\n",
    "### 8.4 对项目维护者的建议\n",
    "\n",
    "1. 基于 PR 曲线选择阈值：不要固定用 0.5 阈值，按业务侧对召回/精度的偏好选择阈值；\n",
    "2. 使用模型系数进行初步特征筛选，删除噪声或冗余特征以提升泛化能力；\n",
    "\n",
    "### 8.5 模型改进方向\n",
    "\n",
    "1. 算法层面：尝试梯度提升树（XGBoost/LightGBM）并对比性能；使用模型融合提高稳定性；\n",
    "2. 数据层面：收集跨项目数据用于联合训练或做迁移学习以提升泛化能力；\n",
    "3. 特征层面：引入文本/代码特征（如 PR 描述关键词、改动行数、语法复杂度）以增强信号；\n",
    "4. 评估层面：在时间敏感任务中采用时间序列交叉验证，避免数据泄露并更真实地评估上线表现；\n",
    "\n",
    "### 8.6 小结（实践清单）\n",
    "- 在验证集上使用 PR 曲线选择业务优先的阈值；\n",
    "- 若正类稀少，优先尝试采样或代价敏感方法；\n",
    "- 做一次 XGBoost/LightGBM 对比并使用时间序列交叉验证；\n",
    "- 将关键图表（混淆矩阵、PR 曲线、Top 特征系数）纳入项目文档以便复现与审计。"
   ]
  }
 ],
 "metadata": {
  "kernelspec": {
   "display_name": "pytorch",
   "language": "python",
   "name": "python3"
  },
  "language_info": {
   "codemirror_mode": {
    "name": "ipython",
    "version": 3
   },
   "file_extension": ".py",
   "mimetype": "text/x-python",
   "name": "python",
   "nbconvert_exporter": "python",
   "pygments_lexer": "ipython3",
   "version": "3.6.13"
  }
 },
 "nbformat": 4,
 "nbformat_minor": 5
}
