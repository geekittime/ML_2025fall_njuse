{
  "cells": [
    {
      "cell_type": "markdown",
      "metadata": {},
      "source": [
        "# 爬取数据特征提取脚本说明（crawled_feature_extract.py）\n",
        "\n",
        "## 目标\n",
        "基于爬虫得到的原始CSV数据（`pr_list.csv`、`pr_details.csv`、`pr_reviews.csv`、`contributors.csv`），生成 `PR_extracted_features.xlsx` 综合特征文件。\n",
        "\n",
        "## 输入与输出\n",
        "- 输入目录：运行时指定（例如 `output/`）\n",
        "- 输入文件：\n",
        "  - `pr_list.csv`\n",
        "  - `pr_details.csv`\n",
        "  - `pr_reviews.csv`\n",
        "  - `contributors.csv`\n",
        "- 输出文件：\n",
        "  - `PR_extracted_features.xlsx`（生成于输入目录）\n",
        "\n",
        "## 主要处理步骤\n",
        "1. 从 `pr_list.csv` 过滤关闭PR\n",
        "2. 时间列标准化（UTC→naive）\n",
        "3. 计算是否合入（`merged_at` 是否为空）\n",
        "4. 文本长度特征：`title_length`、`body_length`\n",
        "5. 作者维度汇总：按 `user/login` 计算 `merge_proportion` 并回填到每条PR\n",
        "6. 计算 `last_pr_update`（更新-创建的小时差）\n",
        "7. 合并 `pr_details.csv` 提取 `additions`、`deletions`、`changed_files`\n",
        "8. 合并 `contributors.csv` 作为 `contributions` 作者活跃度特征\n",
        "9. 基于 `pr_reviews.csv` 计算 `last_comment_update`（最后一次评论相对创建的小时差）\n",
        "10. 清理多余列、排序并写出Excel\n",
        "\n",
        "## 运行方式\n",
        "- 提示式运行（输入数据目录）：\n",
        "```bash\n",
        "python ML-lab1/crawled_feature_extract.py\n",
        "# 输入: Folder to extract features from: output\n",
        "```\n",
        "- 或直接传入数据目录（可自行改为参数形式）\n",
        "\n",
        "## 作用\n",
        "- 为“从零抓取→建模”的流程提供桥梁，连接爬虫原始数据与建模所需特征。\n"
      ]
    }
  ],
  "metadata": {
    "kernelspec": {
      "display_name": "pytorch",
      "language": "python",
      "name": "python3"
    },
    "language_info": {
      "codemirror_mode": {
        "name": "ipython",
        "version": 3
      },
      "file_extension": ".py",
      "mimetype": "text/x-python",
      "name": "python",
      "nbconvert_exporter": "python",
      "pygments_lexer": "ipython3",
      "version": "3.6.13"
    }
  },
  "nbformat": 4,
  "nbformat_minor": 2
}
