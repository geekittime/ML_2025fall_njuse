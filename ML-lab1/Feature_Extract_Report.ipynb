{
  "cells": [
    {
      "cell_type": "markdown",
      "metadata": {},
      "source": [
        "# 特征提取脚本说明（feature_extract.py）\n",
        "\n",
        "## 目标\n",
        "基于已有的Excel数据（如 `PR_info_add_conversation.xlsx`、`PR_features.xlsx`、`author_features.xlsx`、`PR_comment_info.xlsx`），生成用于建模的综合特征文件 `PR_extracted_features.xlsx`。\n",
        "\n",
        "## 输入与输出\n",
        "- 输入目录：`yii2/`\n",
        "- 输入文件：\n",
        "  - `PR_info_add_conversation.xlsx`\n",
        "  - `PR_features.xlsx`\n",
        "  - `author_features.xlsx`\n",
        "  - `PR_comment_info.xlsx`\n",
        "- 输出文件：\n",
        "  - `PR_extracted_features.xlsx`（位于 `yii2/`）\n",
        "\n",
        "## 主要处理步骤\n",
        "1. 过滤关闭状态的PR（`state == 'closed'`）\n",
        "2. 统一时间列时区并转为naive datetime\n",
        "3. 从 `PR_info_add_conversation.xlsx` 中保留关键列（编号与时间）并计算 `last_pr_update`\n",
        "4. 从 `PR_features.xlsx` 合并标题长度、正文长度、文件增删改统计\n",
        "5. 从 `author_features.xlsx` 合并作者活跃度（`changes_per_week`）与合入比例（`merge_proportion`）\n",
        "6. 使用 `PR_comment_info.xlsx` 计算 `last_comment_update`（首条/最新评论相对PR创建的小时差的最大值）\n",
        "7. 按 `number` 排序并写出 `PR_extracted_features.xlsx`\n",
        "\n",
        "## 运行方式\n",
        "- 直接运行脚本（默认从 `yii2/` 读取，输出到 `yii2/`）：\n",
        "```bash\n",
        "python ML-lab1/feature_extract.py\n",
        "```\n",
        "\n",
        "## 作用\n",
        "- 生成的 `PR_extracted_features.xlsx` 可直接用于 Task1/Task2 的模型训练与评估。\n"
      ]
    },
    {
      "cell_type": "code",
      "execution_count": null,
      "metadata": {},
      "outputs": [
        {
          "name": "stdout",
          "output_type": "stream",
          "text": [
            "加载完成: 8040 8040 8040 25643\n",
            "已写出: D:\\Develop\\ML\\Lab1\\ML_2025fall_njuse\\ML-lab1\\yii2\\PR_extracted_features.xlsx\n",
            "列: ['number', 'created_at', 'updated_at', 'merged_at', 'closed_at', 'merged', 'additions', 'deletions', 'last_pr_update', 'title_length', 'body_length', 'files_added'] ...\n",
            "样例行数/列数: (7957, 17)\n"
          ]
        }
      ],
      "source": [
        "import pandas as pd\n",
        "from pathlib import Path\n",
        "\n",
        "DATA_DIR = Path('yii2')\n",
        "assert DATA_DIR.exists(), f\"数据目录不存在: {DATA_DIR.resolve()}\"\n",
        "\n",
        "# 1) 读取数据\n",
        "a_pr = pd.read_excel(DATA_DIR / 'PR_info_add_conversation.xlsx', engine='openpyxl')\n",
        "feat = pd.read_excel(DATA_DIR / 'PR_features.xlsx', engine='openpyxl')\n",
        "auth = pd.read_excel(DATA_DIR / 'author_features.xlsx', engine='openpyxl')\n",
        "cmts = pd.read_excel(DATA_DIR / 'PR_comment_info.xlsx', engine='openpyxl')\n",
        "print('加载完成:', len(a_pr), len(feat), len(auth), len(cmts))\n",
        "\n",
        "# 2) 过滤关闭PR\n",
        "pr = a_pr[a_pr['state'] == 'closed'].copy()\n",
        "\n",
        "# 3) 统一时间列并转为naive\n",
        "datetime_cols = ['created_at', 'updated_at', 'merged_at', 'closed_at']\n",
        "for col in datetime_cols:\n",
        "    pr[col] = pd.to_datetime(pr[col], utc=True)\n",
        "    pr[col] = pr[col].dt.tz_localize(None)\n",
        "\n",
        "# 4) 选择关键列并计算 last_pr_update\n",
        "pr = pr[[\"number\", \"created_at\", \"updated_at\", \"merged_at\", \"closed_at\", \"merged\", \"additions\", \"deletions\"]]\n",
        "pr['last_pr_update'] = (pr['updated_at'] - pr['created_at']).dt.total_seconds() / 3600\n",
        "\n",
        "# 5) 合并 PR_features\n",
        "use_feat_cols = ['number', 'title_length', 'body_length', 'files_added', 'files_deleted', 'files_updated']\n",
        "pr = pr.merge(feat[use_feat_cols], on='number', how='left')\n",
        "\n",
        "# 6) 合并 author_features\n",
        "use_auth_cols = ['number', 'changes_per_week', 'merge_proportion']\n",
        "pr = pr.merge(auth[use_auth_cols], on='number', how='left')\n",
        "\n",
        "# 7) 计算 last_comment_update（按PR分组的最大评论间隔）\n",
        "cmts['updated_at'] = pd.to_datetime(cmts['updated_at'], utc=True).dt.tz_localize(None)\n",
        "\n",
        "pr_with_cmts = pd.merge(pr, cmts, left_on='number', right_on='belong_to_PR', how='left', suffixes=('_pr', '_cmt'))\n",
        "\n",
        "if 'updated_at_cmt' in pr_with_cmts.columns and 'created_at_pr' in pr_with_cmts.columns:\n",
        "\tdelta = (pr_with_cmts['updated_at_cmt'] - pr_with_cmts['created_at_pr'])\n",
        "elif 'updated_at_y' in pr_with_cmts.columns and 'created_at_x' in pr_with_cmts.columns:\n",
        "\tdelta = (pr_with_cmts['updated_at_y'] - pr_with_cmts['created_at_x'])\n",
        "else:\n",
        "\traise KeyError('找不到评论或PR时间列，请检查输入数据列名')\n",
        "pr_with_cmts['last_comment_update'] = delta.dt.total_seconds() / 3600\n",
        "last_cmt = pr_with_cmts.groupby('number')['last_comment_update'].max()\n",
        "pr = pr.merge(last_cmt, on='number', how='left')\n",
        "\n",
        "# 8) 排序 & 保存\n",
        "pr = pr.sort_values('number')\n",
        "out_path = DATA_DIR / 'PR_extracted_features.xlsx'\n",
        "pr.to_excel(out_path, index=False)\n",
        "print('已写出:', out_path.resolve())\n",
        "print('列:', list(pr.columns)[:12], '...')\n",
        "print('样例行数/列数:', pr.shape)\n",
        "\n"
      ]
    }
  ],
  "metadata": {
    "kernelspec": {
      "display_name": "pytorch",
      "language": "python",
      "name": "python3"
    },
    "language_info": {
      "codemirror_mode": {
        "name": "ipython",
        "version": 3
      },
      "file_extension": ".py",
      "mimetype": "text/x-python",
      "name": "python",
      "nbconvert_exporter": "python",
      "pygments_lexer": "ipython3",
      "version": "3.6.13"
    }
  },
  "nbformat": 4,
  "nbformat_minor": 2
}
